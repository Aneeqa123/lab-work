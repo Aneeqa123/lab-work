{
 "cells": [
  {
   "cell_type": "code",
   "execution_count": 16,
   "id": "178045bc",
   "metadata": {},
   "outputs": [],
   "source": [
    "a=True\n",
    "b=False\n",
    "c=True"
   ]
  },
  {
   "cell_type": "code",
   "execution_count": 17,
   "id": "c6509b5c",
   "metadata": {},
   "outputs": [
    {
     "name": "stdout",
     "output_type": "stream",
     "text": [
      "<class 'bool'>\n"
     ]
    }
   ],
   "source": [
    "print(type(a))"
   ]
  },
  {
   "cell_type": "code",
   "execution_count": 18,
   "id": "ae59418e",
   "metadata": {},
   "outputs": [
    {
     "name": "stdout",
     "output_type": "stream",
     "text": [
      "False\n",
      "True\n",
      "False\n",
      "False\n"
     ]
    }
   ],
   "source": [
    "print(a and b)\n",
    "print(a and a)\n",
    "print(b and b)\n",
    "print(b and a)"
   ]
  },
  {
   "cell_type": "code",
   "execution_count": 19,
   "id": "7edc11cd",
   "metadata": {},
   "outputs": [
    {
     "name": "stdout",
     "output_type": "stream",
     "text": [
      "True\n",
      "True\n",
      "False\n",
      "True\n"
     ]
    }
   ],
   "source": [
    "print(a or b)\n",
    "print(a or a)\n",
    "print(b or b)\n",
    "print(b or a)"
   ]
  },
  {
   "cell_type": "code",
   "execution_count": 20,
   "id": "2f67d042",
   "metadata": {},
   "outputs": [
    {
     "name": "stdout",
     "output_type": "stream",
     "text": [
      "False\n",
      "True\n"
     ]
    }
   ],
   "source": [
    "print(not a)\n",
    "print(not b)"
   ]
  },
  {
   "cell_type": "code",
   "execution_count": 21,
   "id": "5f61144c",
   "metadata": {},
   "outputs": [
    {
     "name": "stdout",
     "output_type": "stream",
     "text": [
      "True\n"
     ]
    }
   ],
   "source": [
    "print(a != b)"
   ]
  },
  {
   "cell_type": "code",
   "execution_count": 22,
   "id": "22554d05",
   "metadata": {},
   "outputs": [
    {
     "name": "stdout",
     "output_type": "stream",
     "text": [
      "True\n"
     ]
    }
   ],
   "source": [
    "print(b != a)"
   ]
  },
  {
   "cell_type": "code",
   "execution_count": 23,
   "id": "25ce4a68",
   "metadata": {},
   "outputs": [
    {
     "name": "stdout",
     "output_type": "stream",
     "text": [
      "True\n",
      "True\n",
      "False\n",
      "True\n",
      "False\n"
     ]
    }
   ],
   "source": [
    "print(a and b or c)\n",
    "print(a or b and c)\n",
    "print(a and b and c)\n",
    "print(a or b or c)\n",
    "print(not c)"
   ]
  },
  {
   "cell_type": "code",
   "execution_count": 26,
   "id": "c3fb15d0",
   "metadata": {
    "scrolled": true
   },
   "outputs": [
    {
     "name": "stdout",
     "output_type": "stream",
     "text": [
      "[0, 1, 2, 3, 4, 5, 6, 7, 8, 9]\n",
      "[2, 3]\n",
      "[2, 3, 4, 5, 6, 7, 8, 9]\n",
      "[0, 1]\n",
      "[0, 1, 2, 3, 4, 5, 6, 7, 8]\n",
      "[0, 1, 8, 9, 4, 5, 6, 7, 8, 9]\n"
     ]
    }
   ],
   "source": [
    "nums=list(range(10))\n",
    "print(nums)\n",
    "print(nums[2:4])\n",
    "print(nums[2:])\n",
    "print(nums[:2])\n",
    "print(nums[:-1])\n",
    "nums[2:4]=[8,9]\n",
    "print(nums)\n"
   ]
  }
 ],
 "metadata": {
  "kernelspec": {
   "display_name": "Python 3 (ipykernel)",
   "language": "python",
   "name": "python3"
  },
  "language_info": {
   "codemirror_mode": {
    "name": "ipython",
    "version": 3
   },
   "file_extension": ".py",
   "mimetype": "text/x-python",
   "name": "python",
   "nbconvert_exporter": "python",
   "pygments_lexer": "ipython3",
   "version": "3.9.7"
  }
 },
 "nbformat": 4,
 "nbformat_minor": 5
}
