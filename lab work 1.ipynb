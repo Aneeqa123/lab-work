{
 "cells": [
  {
   "cell_type": "code",
   "execution_count": 3,
   "id": "2eae5430",
   "metadata": {},
   "outputs": [
    {
     "name": "stdout",
     "output_type": "stream",
     "text": [
      "151\n",
      "23\n",
      "5568\n",
      "1.359375\n",
      "1\n",
      "23\n"
     ]
    }
   ],
   "source": [
    "a=87\n",
    "b=64\n",
    "print(a+b)\n",
    "print(a-b)\n",
    "print(a*b)\n",
    "print(a/b)\n",
    "print(a//b)\n",
    "print(a%b)"
   ]
  },
  {
   "cell_type": "code",
   "execution_count": 4,
   "id": "a4e7d949",
   "metadata": {},
   "outputs": [
    {
     "name": "stdout",
     "output_type": "stream",
     "text": [
      "13.4\n",
      "6.200000000000001\n",
      "35.28\n",
      "2.7222222222222223\n",
      "2.0\n",
      "2.6000000000000005\n"
     ]
    }
   ],
   "source": [
    "a=9.8\n",
    "b=3.6\n",
    "print(a+b)\n",
    "print(a-b)\n",
    "print(a*b)\n",
    "print(a/b)\n",
    "print(a//b)\n",
    "print(a%b)"
   ]
  },
  {
   "cell_type": "code",
   "execution_count": 13,
   "id": "ba02e94e",
   "metadata": {
    "scrolled": true
   },
   "outputs": [
    {
     "name": "stdout",
     "output_type": "stream",
     "text": [
      "{'islamabad': 'comsats', 'lahore': 'UET'}\n",
      "comsats\n",
      "[46, 24, 78, 'abc', {'islamadad': 'comsats', 'lahore': 'UET'}]\n",
      "78\n"
     ]
    }
   ],
   "source": [
    "#list\n",
    "list=[46,24,78]\n",
    "list. append('abc')\n",
    "list[2]\n",
    "#dictionaries\n",
    "d={'islamabad':'comsats','lahore':'UET'}\n",
    "print(d)\n",
    "d['islamabad']\n",
    "print(d['islamabad'])\n",
    "list.append({'islamadad':'comsats','lahore':'UET'})\n",
    "print(list)\n",
    "print(list[2])"
   ]
  }
 ],
 "metadata": {
  "kernelspec": {
   "display_name": "Python 3 (ipykernel)",
   "language": "python",
   "name": "python3"
  },
  "language_info": {
   "codemirror_mode": {
    "name": "ipython",
    "version": 3
   },
   "file_extension": ".py",
   "mimetype": "text/x-python",
   "name": "python",
   "nbconvert_exporter": "python",
   "pygments_lexer": "ipython3",
   "version": "3.9.7"
  }
 },
 "nbformat": 4,
 "nbformat_minor": 5
}
