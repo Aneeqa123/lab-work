{
 "cells": [
  {
   "cell_type": "code",
   "execution_count": 5,
   "id": "063c4cfb",
   "metadata": {},
   "outputs": [
    {
     "name": "stdout",
     "output_type": "stream",
     "text": [
      "enter the value of x:50\n",
      "for x = 50.00,y=66.947656\n"
     ]
    }
   ],
   "source": [
    "x=[0, 20, 40, 60, 80, 100]\n",
    "y=[26, 48.6, 61.6, 71.2, 74.8, 75.2]\n",
    "\n",
    "m = len(x)\n",
    "n = m - 1\n",
    "\n",
    "xp = float(input(\"enter the value of x:\"))\n",
    "yp = 0\n",
    "for i in range(n+1):\n",
    "    p = 1\n",
    "    for j in range(n+1):\n",
    "        if j != i:\n",
    "            p *= ((xp-x[j])/(x[i]-x[j]))\n",
    "    yp += y[i]*p\n",
    "print('for x = %.2f,y=%f'%(xp,yp))"
   ]
  },
  {
   "cell_type": "code",
   "execution_count": 4,
   "id": "43482122",
   "metadata": {},
   "outputs": [
    {
     "name": "stdout",
     "output_type": "stream",
     "text": [
      "enter the value of x:50\n",
      "for x=50.00,y=66.947656\n"
     ]
    }
   ],
   "source": [
    "import numpy as np\n",
    "\n",
    "x=np.array([0,20,40,60,80,100],float)\n",
    "y=np.array([26,48.6,61.6,71.2,74.8,75.2],float)\n",
    "\n",
    "xp=float(input('enter the value of x:'))\n",
    "yp=0\n",
    "\n",
    "for xi,yi in zip(x,y):\n",
    "    yp += yi*np.prod((xp-x[x!=xi])/(xi-x[x!=xi]))\n",
    "\n",
    "print('for x=%.2f,y=%f'%(xp,yp))"
   ]
  },
  {
   "cell_type": "code",
   "execution_count": null,
   "id": "8aa21548",
   "metadata": {},
   "outputs": [],
   "source": []
  }
 ],
 "metadata": {
  "kernelspec": {
   "display_name": "Python 3 (ipykernel)",
   "language": "python",
   "name": "python3"
  },
  "language_info": {
   "codemirror_mode": {
    "name": "ipython",
    "version": 3
   },
   "file_extension": ".py",
   "mimetype": "text/x-python",
   "name": "python",
   "nbconvert_exporter": "python",
   "pygments_lexer": "ipython3",
   "version": "3.9.7"
  }
 },
 "nbformat": 4,
 "nbformat_minor": 5
}
